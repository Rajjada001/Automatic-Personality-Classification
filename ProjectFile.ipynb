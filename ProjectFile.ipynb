{
    "cells": [
        {
            "cell_type": "markdown",
            "metadata": {
                "collapsed": true
            },
            "source": "### Firstly, import all the required data sets."
        },
        {
            "cell_type": "code",
            "execution_count": 1,
            "metadata": {},
            "outputs": [
                {
                    "data": {
                        "text/html": "<div>\n<style scoped>\n    .dataframe tbody tr th:only-of-type {\n        vertical-align: middle;\n    }\n\n    .dataframe tbody tr th {\n        vertical-align: top;\n    }\n\n    .dataframe thead th {\n        text-align: right;\n    }\n</style>\n<table border=\"1\" class=\"dataframe\">\n  <thead>\n    <tr style=\"text-align: right;\">\n      <th></th>\n      <th>Gender</th>\n      <th>Age</th>\n      <th>openness</th>\n      <th>neuroticism</th>\n      <th>conscientiousness</th>\n      <th>agreeableness</th>\n      <th>extraversion</th>\n      <th>Personality (Class label)</th>\n    </tr>\n  </thead>\n  <tbody>\n    <tr>\n      <th>0</th>\n      <td>Male</td>\n      <td>17</td>\n      <td>7</td>\n      <td>4</td>\n      <td>7</td>\n      <td>3</td>\n      <td>2</td>\n      <td>extraverted</td>\n    </tr>\n    <tr>\n      <th>1</th>\n      <td>Male</td>\n      <td>19</td>\n      <td>4</td>\n      <td>5</td>\n      <td>4</td>\n      <td>6</td>\n      <td>6</td>\n      <td>serious</td>\n    </tr>\n    <tr>\n      <th>2</th>\n      <td>Female</td>\n      <td>18</td>\n      <td>7</td>\n      <td>6</td>\n      <td>4</td>\n      <td>5</td>\n      <td>5</td>\n      <td>dependable</td>\n    </tr>\n    <tr>\n      <th>3</th>\n      <td>Female</td>\n      <td>22</td>\n      <td>5</td>\n      <td>6</td>\n      <td>7</td>\n      <td>4</td>\n      <td>3</td>\n      <td>extraverted</td>\n    </tr>\n    <tr>\n      <th>4</th>\n      <td>Female</td>\n      <td>19</td>\n      <td>7</td>\n      <td>4</td>\n      <td>6</td>\n      <td>5</td>\n      <td>4</td>\n      <td>lively</td>\n    </tr>\n  </tbody>\n</table>\n</div>",
                        "text/plain": "   Gender  Age  openness  neuroticism  conscientiousness  agreeableness  \\\n0    Male   17         7            4                  7              3   \n1    Male   19         4            5                  4              6   \n2  Female   18         7            6                  4              5   \n3  Female   22         5            6                  7              4   \n4  Female   19         7            4                  6              5   \n\n   extraversion Personality (Class label)  \n0             2               extraverted  \n1             6                   serious  \n2             5                dependable  \n3             3               extraverted  \n4             4                    lively  "
                    },
                    "execution_count": 1,
                    "metadata": {},
                    "output_type": "execute_result"
                }
            ],
            "source": "# The code was removed by Watson Studio for sharing."
        },
        {
            "cell_type": "markdown",
            "metadata": {},
            "source": "<h1 style=\"color:red\"> Import all the required modules <h1>"
        },
        {
            "cell_type": "code",
            "execution_count": 2,
            "metadata": {},
            "outputs": [],
            "source": "import pandas as pd\nfrom numpy import *\nimport numpy as np\nfrom sklearn import preprocessing\nfrom sklearn import datasets, linear_model\nfrom sklearn.metrics import mean_squared_error, r2_score\nfrom sklearn import metrics\nfrom sklearn.model_selection import train_test_split\nfrom sklearn import neighbors"
        },
        {
            "cell_type": "code",
            "execution_count": 3,
            "metadata": {},
            "outputs": [],
            "source": "array = data.values"
        },
        {
            "cell_type": "code",
            "execution_count": 4,
            "metadata": {},
            "outputs": [],
            "source": "for i in range(len(array)):\n\tif array[i][0]==\"Male\":\n\t\tarray[i][0]=1\n\telse:\n\t\tarray[i][0]=0\n"
        },
        {
            "cell_type": "code",
            "execution_count": 5,
            "metadata": {},
            "outputs": [],
            "source": "df=pd.DataFrame(array)"
        },
        {
            "cell_type": "code",
            "execution_count": 6,
            "metadata": {},
            "outputs": [],
            "source": "maindf =df[[0,1,2,3,4,5,6]]"
        },
        {
            "cell_type": "code",
            "execution_count": 7,
            "metadata": {},
            "outputs": [],
            "source": "mainarray=maindf.values"
        },
        {
            "cell_type": "code",
            "execution_count": 8,
            "metadata": {},
            "outputs": [
                {
                    "name": "stdout",
                    "output_type": "stream",
                    "text": "[[1 17 7 ... 7 3 2]\n [1 19 4 ... 4 6 6]\n [0 18 7 ... 4 5 5]\n ...\n [1 22 5 ... 3 6 1]\n [1 19 5 ... 5 7 5]\n [0 18 5 ... 7 6 5]]\n"
                }
            ],
            "source": "print (mainarray)"
        },
        {
            "cell_type": "code",
            "execution_count": 9,
            "metadata": {},
            "outputs": [
                {
                    "name": "stdout",
                    "output_type": "stream",
                    "text": "['extraverted' 'serious' 'dependable' 'extraverted' 'lively' 'lively'\n 'extraverted' 'extraverted' 'dependable' 'lively' 'serious' 'extraverted'\n 'lively' 'dependable' 'responsible' 'extraverted' 'serious' 'dependable'\n 'responsible' 'extraverted' 'responsible' 'extraverted' 'responsible'\n 'serious' 'serious' 'dependable' 'extraverted' 'extraverted' 'lively'\n 'lively' 'extraverted' 'extraverted' 'dependable' 'lively' 'serious'\n 'lively' 'responsible' 'responsible' 'dependable' 'serious' 'dependable'\n 'extraverted' 'serious' 'extraverted' 'dependable' 'dependable'\n 'responsible' 'serious' 'lively' 'lively' 'extraverted' 'extraverted'\n 'serious' 'extraverted' 'lively' 'lively' 'extraverted' 'dependable'\n 'lively' 'lively' 'responsible' 'extraverted' 'responsible' 'dependable'\n 'serious' 'serious' 'responsible' 'dependable' 'responsible' 'dependable'\n 'extraverted' 'extraverted' 'responsible' 'dependable' 'responsible'\n 'serious' 'extraverted' 'dependable' 'lively' 'lively' 'extraverted'\n 'lively' 'serious' 'responsible' 'extraverted' 'serious' 'dependable'\n 'serious' 'dependable' 'responsible' 'dependable' 'extraverted'\n 'extraverted' 'serious' 'lively' 'responsible' 'dependable' 'lively'\n 'serious' 'responsible' 'responsible' 'lively' 'dependable' 'dependable'\n 'lively' 'extraverted' 'responsible' 'lively' 'extraverted' 'dependable'\n 'serious' 'serious' 'lively' 'lively' 'extraverted' 'responsible'\n 'dependable' 'dependable' 'responsible' 'dependable' 'responsible'\n 'serious' 'serious' 'lively' 'serious' 'extraverted' 'serious'\n 'extraverted' 'responsible' 'responsible' 'lively' 'extraverted'\n 'responsible' 'serious' 'responsible' 'serious' 'serious' 'extraverted'\n 'extraverted' 'dependable' 'dependable' 'lively' 'lively' 'dependable'\n 'responsible' 'serious' 'serious' 'serious' 'extraverted' 'serious'\n 'extraverted' 'dependable' 'responsible' 'lively' 'extraverted'\n 'dependable' 'serious' 'responsible' 'extraverted' 'lively' 'serious'\n 'extraverted' 'dependable' 'dependable' 'dependable' 'responsible'\n 'dependable' 'responsible' 'lively' 'responsible' 'lively' 'extraverted'\n 'extraverted' 'responsible' 'serious' 'extraverted' 'lively'\n 'extraverted' 'extraverted' 'serious' 'serious' 'serious' 'responsible'\n 'serious' 'extraverted' 'lively' 'lively' 'extraverted' 'serious'\n 'dependable' 'serious' 'lively' 'responsible' 'lively' 'serious'\n 'extraverted' 'extraverted' 'responsible' 'lively' 'extraverted'\n 'dependable' 'responsible' 'serious' 'responsible' 'dependable'\n 'responsible' 'serious' 'dependable' 'serious' 'lively' 'extraverted'\n 'serious' 'dependable' 'serious' 'lively' 'extraverted' 'lively'\n 'responsible' 'responsible' 'extraverted' 'serious' 'extraverted'\n 'responsible' 'responsible' 'responsible' 'dependable' 'dependable'\n 'dependable' 'responsible' 'serious' 'extraverted' 'serious' 'lively'\n 'extraverted' 'extraverted' 'dependable' 'lively' 'lively' 'serious'\n 'responsible' 'dependable' 'responsible' 'extraverted' 'responsible'\n 'extraverted' 'serious' 'dependable' 'extraverted' 'extraverted'\n 'dependable' 'responsible' 'lively' 'serious' 'serious' 'serious'\n 'extraverted' 'dependable' 'responsible' 'dependable' 'lively'\n 'responsible' 'lively' 'extraverted' 'serious' 'responsible'\n 'responsible' 'dependable' 'dependable' 'serious' 'serious' 'serious'\n 'lively' 'serious' 'extraverted' 'responsible' 'lively' 'dependable'\n 'serious' 'lively' 'dependable' 'lively' 'dependable' 'serious'\n 'extraverted' 'dependable' 'lively' 'serious' 'extraverted' 'lively'\n 'lively' 'extraverted' 'dependable' 'serious' 'extraverted' 'responsible'\n 'serious' 'serious' 'responsible' 'lively' 'serious' 'serious' 'lively'\n 'serious' 'responsible' 'dependable' 'dependable' 'lively' 'extraverted'\n 'extraverted' 'lively' 'responsible' 'serious' 'serious' 'responsible'\n 'dependable' 'serious' 'extraverted' 'dependable' 'extraverted' 'lively'\n 'dependable' 'dependable' 'lively' 'responsible' 'lively' 'serious'\n 'serious' 'dependable' 'serious' 'extraverted' 'extraverted' 'lively'\n 'extraverted' 'responsible' 'extraverted' 'serious' 'lively' 'serious'\n 'serious' 'extraverted' 'extraverted' 'serious' 'dependable' 'lively'\n 'lively' 'dependable' 'lively' 'dependable' 'serious' 'extraverted'\n 'dependable' 'responsible' 'dependable' 'serious' 'serious' 'responsible'\n 'responsible' 'extraverted' 'dependable' 'lively' 'serious' 'serious'\n 'lively' 'responsible' 'responsible' 'extraverted' 'lively' 'lively'\n 'extraverted' 'dependable' 'dependable' 'serious' 'extraverted'\n 'dependable' 'lively' 'serious' 'extraverted' 'responsible' 'extraverted'\n 'extraverted' 'responsible' 'dependable' 'serious' 'lively' 'serious'\n 'extraverted' 'dependable' 'responsible' 'extraverted' 'serious'\n 'serious' 'responsible' 'lively' 'responsible' 'serious' 'dependable'\n 'dependable' 'serious' 'dependable' 'dependable' 'responsible' 'lively'\n 'dependable' 'responsible' 'serious' 'lively' 'dependable' 'serious'\n 'lively' 'responsible' 'responsible' 'extraverted' 'serious' 'lively'\n 'serious' 'lively' 'extraverted' 'lively' 'dependable' 'lively'\n 'dependable' 'responsible' 'responsible' 'responsible' 'serious'\n 'dependable' 'responsible' 'serious' 'serious' 'lively' 'serious'\n 'extraverted' 'responsible' 'responsible' 'extraverted' 'extraverted'\n 'serious' 'dependable' 'lively' 'responsible' 'lively' 'extraverted'\n 'extraverted' 'dependable' 'responsible' 'extraverted' 'responsible'\n 'extraverted' 'extraverted' 'serious' 'lively' 'serious' 'serious'\n 'extraverted' 'dependable' 'responsible' 'lively' 'extraverted'\n 'responsible' 'extraverted' 'dependable' 'dependable' 'serious'\n 'responsible' 'dependable' 'serious' 'dependable' 'responsible'\n 'responsible' 'serious' 'lively' 'extraverted' 'dependable' 'extraverted'\n 'serious' 'serious' 'responsible' 'serious' 'serious' 'extraverted'\n 'extraverted' 'responsible' 'lively' 'responsible' 'dependable'\n 'extraverted' 'dependable' 'dependable' 'dependable' 'dependable'\n 'extraverted' 'lively' 'lively' 'extraverted' 'responsible' 'dependable'\n 'extraverted' 'dependable' 'serious' 'responsible' 'serious'\n 'extraverted' 'extraverted' 'serious' 'serious' 'lively' 'responsible'\n 'dependable' 'serious' 'lively' 'dependable' 'lively' 'extraverted'\n 'dependable' 'dependable' 'serious' 'lively' 'lively' 'extraverted'\n 'serious' 'lively' 'lively' 'serious' 'extraverted' 'serious'\n 'dependable' 'extraverted' 'extraverted' 'serious' 'responsible'\n 'responsible' 'extraverted' 'responsible' 'serious' 'responsible'\n 'extraverted' 'serious' 'serious' 'responsible' 'extraverted' 'lively'\n 'dependable' 'extraverted' 'extraverted' 'dependable' 'lively'\n 'extraverted' 'lively' 'responsible' 'dependable' 'dependable' 'serious'\n 'responsible' 'extraverted' 'lively' 'extraverted' 'dependable' 'serious'\n 'responsible' 'serious' 'lively' 'lively' 'responsible' 'extraverted'\n 'serious' 'extraverted' 'lively' 'serious' 'extraverted' 'dependable'\n 'lively' 'lively' 'serious' 'extraverted' 'responsible' 'dependable'\n 'lively' 'serious' 'responsible' 'dependable' 'lively' 'dependable'\n 'extraverted' 'extraverted' 'lively' 'dependable' 'responsible' 'serious'\n 'extraverted' 'dependable' 'lively' 'lively' 'responsible' 'lively'\n 'serious' 'responsible' 'lively' 'serious' 'dependable' 'serious'\n 'lively' 'responsible' 'dependable' 'extraverted' 'dependable' 'serious'\n 'lively' 'responsible' 'extraverted' 'lively' 'serious' 'responsible'\n 'responsible' 'lively' 'serious' 'dependable' 'lively' 'extraverted'\n 'serious' 'lively' 'extraverted' 'dependable' 'responsible' 'serious'\n 'lively' 'lively' 'dependable' 'responsible' 'dependable' 'dependable'\n 'lively' 'dependable' 'responsible' 'serious' 'dependable' 'lively'\n 'serious' 'extraverted' 'lively' 'extraverted' 'responsible'\n 'responsible' 'dependable' 'extraverted' 'responsible' 'serious' 'lively'\n 'serious' 'serious' 'extraverted' 'serious' 'dependable' 'dependable'\n 'lively' 'extraverted' 'dependable' 'responsible' 'serious' 'lively'\n 'serious' 'extraverted' 'serious' 'serious' 'dependable' 'responsible'\n 'serious' 'extraverted' 'dependable' 'serious' 'dependable' 'extraverted'\n 'lively' 'serious' 'responsible' 'dependable' 'lively' 'dependable'\n 'serious' 'dependable' 'responsible' 'lively' 'dependable' 'lively'\n 'extraverted' 'extraverted' 'lively' 'serious' 'extraverted' 'lively'\n 'dependable' 'extraverted' 'serious' 'serious' 'dependable' 'responsible'\n 'serious' 'extraverted' 'serious' 'lively' 'extraverted' 'serious'\n 'responsible' 'serious' 'lively' 'responsible' 'dependable' 'serious'\n 'extraverted' 'extraverted']\n"
                }
            ],
            "source": "temp=df[7]\ntrain_y =temp.values\nprint(train_y)"
        },
        {
            "cell_type": "code",
            "execution_count": 10,
            "metadata": {},
            "outputs": [
                {
                    "name": "stdout",
                    "output_type": "stream",
                    "text": "[[1 17 7 ... 7 3 2]\n [1 19 4 ... 4 6 6]\n [0 18 7 ... 4 5 5]\n ...\n [1 22 5 ... 3 6 1]\n [1 19 5 ... 5 7 5]\n [0 18 5 ... 7 6 5]]\n"
                }
            ],
            "source": "print(mainarray)"
        },
        {
            "cell_type": "code",
            "execution_count": 11,
            "metadata": {},
            "outputs": [],
            "source": "train_y=temp.values"
        },
        {
            "cell_type": "code",
            "execution_count": 12,
            "metadata": {},
            "outputs": [],
            "source": "for i in range(len(train_y)):\n\ttrain_y[i] =str(train_y[i])"
        },
        {
            "cell_type": "code",
            "execution_count": 13,
            "metadata": {},
            "outputs": [],
            "source": "mul_lr = linear_model.LogisticRegression(multi_class='multinomial', solver='newton-cg',max_iter =1000)"
        },
        {
            "cell_type": "code",
            "execution_count": 14,
            "metadata": {},
            "outputs": [
                {
                    "data": {
                        "text/plain": "LogisticRegression(C=1.0, class_weight=None, dual=False, fit_intercept=True,\n          intercept_scaling=1, max_iter=1000, multi_class='multinomial',\n          n_jobs=None, penalty='l2', random_state=None, solver='newton-cg',\n          tol=0.0001, verbose=0, warm_start=False)"
                    },
                    "execution_count": 14,
                    "metadata": {},
                    "output_type": "execute_result"
                }
            ],
            "source": "mul_lr.fit(mainarray, train_y)"
        },
        {
            "cell_type": "markdown",
            "metadata": {},
            "source": "<h2 style=\"color:red\"> Now that you've trained your data using Logistic Regression\nIt is time for you to test the dataset. </h2>"
        },
        {
            "cell_type": "code",
            "execution_count": 52,
            "metadata": {},
            "outputs": [
                {
                    "data": {
                        "text/html": "<div>\n<style scoped>\n    .dataframe tbody tr th:only-of-type {\n        vertical-align: middle;\n    }\n\n    .dataframe tbody tr th {\n        vertical-align: top;\n    }\n\n    .dataframe thead th {\n        text-align: right;\n    }\n</style>\n<table border=\"1\" class=\"dataframe\">\n  <thead>\n    <tr style=\"text-align: right;\">\n      <th></th>\n      <th>Gender</th>\n      <th>Age</th>\n      <th>openness</th>\n      <th>neuroticism</th>\n      <th>conscientiousness</th>\n      <th>agreeableness</th>\n      <th>extraversion</th>\n      <th>Personality (class label)</th>\n    </tr>\n  </thead>\n  <tbody>\n    <tr>\n      <th>0</th>\n      <td>Female</td>\n      <td>20</td>\n      <td>7</td>\n      <td>9</td>\n      <td>9</td>\n      <td>5</td>\n      <td>5</td>\n      <td>dependable</td>\n    </tr>\n    <tr>\n      <th>1</th>\n      <td>Male</td>\n      <td>17</td>\n      <td>5</td>\n      <td>4</td>\n      <td>5</td>\n      <td>2</td>\n      <td>4</td>\n      <td>serious</td>\n    </tr>\n    <tr>\n      <th>2</th>\n      <td>Female</td>\n      <td>25</td>\n      <td>5</td>\n      <td>5</td>\n      <td>7</td>\n      <td>2</td>\n      <td>4</td>\n      <td>serious</td>\n    </tr>\n    <tr>\n      <th>3</th>\n      <td>Female</td>\n      <td>18</td>\n      <td>6</td>\n      <td>2</td>\n      <td>7</td>\n      <td>4</td>\n      <td>7</td>\n      <td>serious</td>\n    </tr>\n    <tr>\n      <th>4</th>\n      <td>Female</td>\n      <td>19</td>\n      <td>2</td>\n      <td>4</td>\n      <td>7</td>\n      <td>1</td>\n      <td>3</td>\n      <td>responsible</td>\n    </tr>\n  </tbody>\n</table>\n</div>",
                        "text/plain": "   Gender  Age  openness  neuroticism  conscientiousness  agreeableness  \\\n0  Female   20         7            9                  9              5   \n1    Male   17         5            4                  5              2   \n2  Female   25         5            5                  7              2   \n3  Female   18         6            2                  7              4   \n4  Female   19         2            4                  7              1   \n\n   extraversion Personality (class label)  \n0             5                dependable  \n1             4                   serious  \n2             4                   serious  \n3             7                   serious  \n4             3               responsible  "
                    },
                    "execution_count": 52,
                    "metadata": {},
                    "output_type": "execute_result"
                }
            ],
            "source": "testdata.head()"
        },
        {
            "cell_type": "code",
            "execution_count": 53,
            "metadata": {},
            "outputs": [],
            "source": "test = testdata.values"
        },
        {
            "cell_type": "code",
            "execution_count": 54,
            "metadata": {},
            "outputs": [],
            "source": "for i in range(len(test)):\n\tif test[i][0]==\"Male\":\n\t\ttest[i][0]=1\n\telse:\n\t\ttest[i][0]=0\n"
        },
        {
            "cell_type": "code",
            "execution_count": 55,
            "metadata": {},
            "outputs": [],
            "source": "df1=pd.DataFrame(test)"
        },
        {
            "cell_type": "code",
            "execution_count": 56,
            "metadata": {},
            "outputs": [],
            "source": "testdf =df1[[0,1,2,3,4,5,6]]"
        },
        {
            "cell_type": "code",
            "execution_count": 57,
            "metadata": {},
            "outputs": [],
            "source": "maintestarray=testdf.values"
        },
        {
            "cell_type": "code",
            "execution_count": 58,
            "metadata": {},
            "outputs": [
                {
                    "name": "stdout",
                    "output_type": "stream",
                    "text": "[[0 20 7 ... 9 5 5]\n [1 17 5 ... 5 2 4]\n [0 25 5 ... 7 2 4]\n ...\n [1 18 7 ... 6 2 7]\n [1 23 6 ... 5 4 3]\n [0 18 5 ... 3 5 6]]\n"
                }
            ],
            "source": "print(maintestarray)"
        },
        {
            "cell_type": "markdown",
            "metadata": {},
            "source": "<h1 style=\"color:red; font-size:24px\"> Now that the testing of the data is done. <br> Let's focus on predicting the output</h1>"
        },
        {
            "cell_type": "code",
            "execution_count": 59,
            "metadata": {},
            "outputs": [],
            "source": "y_pred = mul_lr.predict(maintestarray)"
        },
        {
            "cell_type": "markdown",
            "metadata": {},
            "source": "<h2 style=\"color:blue\"> Predict all the values using a for loop </h2>"
        },
        {
            "cell_type": "code",
            "execution_count": 60,
            "metadata": {},
            "outputs": [],
            "source": "for i in range(len(y_pred)) :\n\ty_pred[i]=str((y_pred[i]))"
        },
        {
            "cell_type": "markdown",
            "metadata": {},
            "source": "<h2 style=\"color:blue\"> Name the output table </h2>"
        },
        {
            "cell_type": "code",
            "execution_count": 61,
            "metadata": {},
            "outputs": [],
            "source": "DF = pd.DataFrame(y_pred,columns=['Predicted Personality'])"
        },
        {
            "cell_type": "code",
            "execution_count": 62,
            "metadata": {},
            "outputs": [],
            "source": "# Start from index 1\nDF.index=DF.index+1"
        },
        {
            "cell_type": "markdown",
            "metadata": {},
            "source": "<h2 style=\"color:blue\"> Name the index column </h2>"
        },
        {
            "cell_type": "code",
            "execution_count": 68,
            "metadata": {},
            "outputs": [],
            "source": "DF.index.names = ['Person Index Number']"
        },
        {
            "cell_type": "markdown",
            "metadata": {},
            "source": "<h2 style=\"color:blue;font-size:22px\"> Display the predicted output </h2>"
        },
        {
            "cell_type": "code",
            "execution_count": 69,
            "metadata": {},
            "outputs": [
                {
                    "data": {
                        "text/html": "<div>\n<style scoped>\n    .dataframe tbody tr th:only-of-type {\n        vertical-align: middle;\n    }\n\n    .dataframe tbody tr th {\n        vertical-align: top;\n    }\n\n    .dataframe thead th {\n        text-align: right;\n    }\n</style>\n<table border=\"1\" class=\"dataframe\">\n  <thead>\n    <tr style=\"text-align: right;\">\n      <th></th>\n      <th>Predicted Personality</th>\n    </tr>\n    <tr>\n      <th>Person Index Number</th>\n      <th></th>\n    </tr>\n  </thead>\n  <tbody>\n    <tr>\n      <th>1</th>\n      <td>dependable</td>\n    </tr>\n    <tr>\n      <th>2</th>\n      <td>serious</td>\n    </tr>\n    <tr>\n      <th>3</th>\n      <td>serious</td>\n    </tr>\n    <tr>\n      <th>4</th>\n      <td>serious</td>\n    </tr>\n    <tr>\n      <th>5</th>\n      <td>responsible</td>\n    </tr>\n    <tr>\n      <th>6</th>\n      <td>serious</td>\n    </tr>\n    <tr>\n      <th>7</th>\n      <td>serious</td>\n    </tr>\n    <tr>\n      <th>8</th>\n      <td>serious</td>\n    </tr>\n    <tr>\n      <th>9</th>\n      <td>serious</td>\n    </tr>\n    <tr>\n      <th>10</th>\n      <td>serious</td>\n    </tr>\n    <tr>\n      <th>11</th>\n      <td>serious</td>\n    </tr>\n    <tr>\n      <th>12</th>\n      <td>responsible</td>\n    </tr>\n    <tr>\n      <th>13</th>\n      <td>responsible</td>\n    </tr>\n    <tr>\n      <th>14</th>\n      <td>serious</td>\n    </tr>\n    <tr>\n      <th>15</th>\n      <td>lively</td>\n    </tr>\n    <tr>\n      <th>16</th>\n      <td>extraverted</td>\n    </tr>\n    <tr>\n      <th>17</th>\n      <td>serious</td>\n    </tr>\n    <tr>\n      <th>18</th>\n      <td>serious</td>\n    </tr>\n    <tr>\n      <th>19</th>\n      <td>serious</td>\n    </tr>\n    <tr>\n      <th>20</th>\n      <td>extraverted</td>\n    </tr>\n    <tr>\n      <th>21</th>\n      <td>serious</td>\n    </tr>\n    <tr>\n      <th>22</th>\n      <td>extraverted</td>\n    </tr>\n    <tr>\n      <th>23</th>\n      <td>serious</td>\n    </tr>\n    <tr>\n      <th>24</th>\n      <td>extraverted</td>\n    </tr>\n    <tr>\n      <th>25</th>\n      <td>serious</td>\n    </tr>\n    <tr>\n      <th>26</th>\n      <td>serious</td>\n    </tr>\n    <tr>\n      <th>27</th>\n      <td>extraverted</td>\n    </tr>\n    <tr>\n      <th>28</th>\n      <td>extraverted</td>\n    </tr>\n    <tr>\n      <th>29</th>\n      <td>serious</td>\n    </tr>\n    <tr>\n      <th>30</th>\n      <td>responsible</td>\n    </tr>\n    <tr>\n      <th>...</th>\n      <td>...</td>\n    </tr>\n    <tr>\n      <th>286</th>\n      <td>dependable</td>\n    </tr>\n    <tr>\n      <th>287</th>\n      <td>serious</td>\n    </tr>\n    <tr>\n      <th>288</th>\n      <td>extraverted</td>\n    </tr>\n    <tr>\n      <th>289</th>\n      <td>extraverted</td>\n    </tr>\n    <tr>\n      <th>290</th>\n      <td>extraverted</td>\n    </tr>\n    <tr>\n      <th>291</th>\n      <td>extraverted</td>\n    </tr>\n    <tr>\n      <th>292</th>\n      <td>extraverted</td>\n    </tr>\n    <tr>\n      <th>293</th>\n      <td>extraverted</td>\n    </tr>\n    <tr>\n      <th>294</th>\n      <td>serious</td>\n    </tr>\n    <tr>\n      <th>295</th>\n      <td>extraverted</td>\n    </tr>\n    <tr>\n      <th>296</th>\n      <td>extraverted</td>\n    </tr>\n    <tr>\n      <th>297</th>\n      <td>extraverted</td>\n    </tr>\n    <tr>\n      <th>298</th>\n      <td>extraverted</td>\n    </tr>\n    <tr>\n      <th>299</th>\n      <td>extraverted</td>\n    </tr>\n    <tr>\n      <th>300</th>\n      <td>extraverted</td>\n    </tr>\n    <tr>\n      <th>301</th>\n      <td>serious</td>\n    </tr>\n    <tr>\n      <th>302</th>\n      <td>serious</td>\n    </tr>\n    <tr>\n      <th>303</th>\n      <td>serious</td>\n    </tr>\n    <tr>\n      <th>304</th>\n      <td>serious</td>\n    </tr>\n    <tr>\n      <th>305</th>\n      <td>serious</td>\n    </tr>\n    <tr>\n      <th>306</th>\n      <td>serious</td>\n    </tr>\n    <tr>\n      <th>307</th>\n      <td>serious</td>\n    </tr>\n    <tr>\n      <th>308</th>\n      <td>serious</td>\n    </tr>\n    <tr>\n      <th>309</th>\n      <td>serious</td>\n    </tr>\n    <tr>\n      <th>310</th>\n      <td>serious</td>\n    </tr>\n    <tr>\n      <th>311</th>\n      <td>extraverted</td>\n    </tr>\n    <tr>\n      <th>312</th>\n      <td>serious</td>\n    </tr>\n    <tr>\n      <th>313</th>\n      <td>serious</td>\n    </tr>\n    <tr>\n      <th>314</th>\n      <td>extraverted</td>\n    </tr>\n    <tr>\n      <th>315</th>\n      <td>extraverted</td>\n    </tr>\n  </tbody>\n</table>\n<p>315 rows \u00d7 1 columns</p>\n</div>",
                        "text/plain": "                    Predicted Personality\nPerson Index Number                      \n1                              dependable\n2                                 serious\n3                                 serious\n4                                 serious\n5                             responsible\n6                                 serious\n7                                 serious\n8                                 serious\n9                                 serious\n10                                serious\n11                                serious\n12                            responsible\n13                            responsible\n14                                serious\n15                                 lively\n16                            extraverted\n17                                serious\n18                                serious\n19                                serious\n20                            extraverted\n21                                serious\n22                            extraverted\n23                                serious\n24                            extraverted\n25                                serious\n26                                serious\n27                            extraverted\n28                            extraverted\n29                                serious\n30                            responsible\n...                                   ...\n286                            dependable\n287                               serious\n288                           extraverted\n289                           extraverted\n290                           extraverted\n291                           extraverted\n292                           extraverted\n293                           extraverted\n294                               serious\n295                           extraverted\n296                           extraverted\n297                           extraverted\n298                           extraverted\n299                           extraverted\n300                           extraverted\n301                               serious\n302                               serious\n303                               serious\n304                               serious\n305                               serious\n306                               serious\n307                               serious\n308                               serious\n309                               serious\n310                               serious\n311                           extraverted\n312                               serious\n313                               serious\n314                           extraverted\n315                           extraverted\n\n[315 rows x 1 columns]"
                    },
                    "execution_count": 69,
                    "metadata": {},
                    "output_type": "execute_result"
                }
            ],
            "source": "DF"
        },
        {
            "cell_type": "code",
            "execution_count": null,
            "metadata": {},
            "outputs": [],
            "source": ""
        }
    ],
    "metadata": {
        "kernelspec": {
            "display_name": "Python 3.6",
            "language": "python",
            "name": "python3"
        },
        "language_info": {
            "codemirror_mode": {
                "name": "ipython",
                "version": 3
            },
            "file_extension": ".py",
            "mimetype": "text/x-python",
            "name": "python",
            "nbconvert_exporter": "python",
            "pygments_lexer": "ipython3",
            "version": "3.6.9"
        }
    },
    "nbformat": 4,
    "nbformat_minor": 1
}